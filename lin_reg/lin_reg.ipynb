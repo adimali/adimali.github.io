{
 "cells": [
  {
   "cell_type": "markdown",
   "metadata": {},
   "source": [
    "#Introduction to Linear Regression\n",
    "\n",
    "##Regression:\n",
    "\n",
    " * Act of fitting a curve to a given set of data.\n",
    " * Maybe useful in predicting unknowns or future values.\n",
    " "
   ]
  },
  {
   "cell_type": "markdown",
   "metadata": {},
   "source": [
    "### Linear regression : Fitting a straight line\n",
    "####Equation of a straight line: \n",
    "\n",
    "<table style=\"width:30%\" align=\"left\" border=\"0\">\n",
    "<tr><td>In 2D</td><td>$ y = wx + b$</td></tr>\n",
    "<tr><td>In 3D</td><td>$ y = w_1x_1+w_2x_2 + b$</td></tr>\n",
    "<tr><td>In nD</td><td>$ y = \\sum_{i=1}^{n}w_ix_i + b$</td></tr>\n",
    "</table>"
   ]
  },
  {
   "cell_type": "markdown",
   "metadata": {},
   "source": [
    "#### We rewrite these as a single matrix computation\n",
    "\n",
    "<table style=\"width:40%\" align=\"left\" border=\"0\">\n",
    "<tr><td>In 2D</td><td>$ \\begin{bmatrix}x_0 &x_1 \\end{bmatrix} \\begin{bmatrix}w_0\\\\w_1\\end{bmatrix} =y$</td></tr>\n",
    "<tr><td>In 3D</td><td>$ \\begin{bmatrix}x_0 &x_1 &x_2 \\end{bmatrix} \\begin{bmatrix}w_0\\\\w_1\\\\w_2\\end{bmatrix} =y$</td></tr>\n",
    "<tr><td>In nD</td><td>$ \\begin{bmatrix}x_0 &x_1 &.&.&.& x_n \\end{bmatrix} \\begin{bmatrix}w_0\\\\w_1\\\\.\\\\.\\\\.\\\\w_n\\end{bmatrix} =y$</td></tr>\n",
    "</table>"
   ]
  },
  {
   "cell_type": "markdown",
   "metadata": {},
   "source": [
    "$x_0$ in above matrices in always 1 and $w_0$ is the bias term"
   ]
  },
  {
   "cell_type": "markdown",
   "metadata": {},
   "source": [
    "If we have __m__ samples in our data set this can be written as.\n",
    "\n",
    "$\n",
    "\\begin{bmatrix}\n",
    "x_0^1 & x_1^1 & x_2^1 & . & . & . &x_n^1 \\\\ \n",
    "x_0^2 & x_1^2 & x_2^2 & . & . & . &x_n^2 \\\\ \n",
    "x_0^3 & x_1^3 & x_2^3 & . & . & . &x_n^3 \\\\ \n",
    " &  & . &  &  &  & \\\\ \n",
    " &  & . &  &  &  & \\\\ \n",
    " &  & . &  &  &  & \\\\ \n",
    "x_0^m & x_1^m & x_2^m & . & . & . &x_n^m \n",
    "\\end{bmatrix}\n",
    "\\begin{bmatrix}\n",
    "w_0\\\\ \n",
    "w_1\\\\ \n",
    "w_2\\\\ \n",
    ".\\\\ \n",
    ".\\\\ \n",
    ".\\\\ \n",
    "w_n\\\\\n",
    "\\end{bmatrix}= \n",
    "\\begin{bmatrix}\n",
    "y_1\\\\ \n",
    "y_2\\\\ \n",
    "y_3\\\\ \n",
    ".\\\\ \n",
    ".\\\\ \n",
    ".\\\\ \n",
    "y_m\\\\\n",
    "\\end{bmatrix}\n",
    "$"
   ]
  },
  {
   "cell_type": "markdown",
   "metadata": {},
   "source": [
    "Our goal is to find suitable values for $w$ to best represent our dataset"
   ]
  },
  {
   "cell_type": "markdown",
   "metadata": {},
   "source": [
    "There are different ways of solving for $w$. Lets first create an example data set (2 dimensional)"
   ]
  },
  {
   "cell_type": "code",
   "execution_count": 1,
   "metadata": {
    "collapsed": false,
    "scrolled": true
   },
   "outputs": [
    {
     "data": {
      "image/png": "[encoded data removed]",
      "text/plain": [
       "<matplotlib.figure.Figure at 0x7f42a81ef3d0>"
      ]
     },
     "metadata": {},
     "output_type": "display_data"
    }
   ],
   "source": [
    "import random\n",
    "import matplotlib.pyplot as plt\n",
    "import numpy as np\n",
    "%matplotlib inline\n",
    "\n",
    "# Select weights and bias values to create data\n",
    "w_1=2\n",
    "w_0=5 #bias term\n",
    "\n",
    "# Create data\n",
    "x=np.random.uniform(1,20,size=200)\n",
    "\n",
    "# We create y values usind selected weight and bias then adding some random noise to it\n",
    "y=x*w_1+w_0+np.random.normal(0,3,size=len(x))\n",
    "\n",
    "# Plot data\n",
    "\n",
    "plt.plot(x, y, \"o\", [0,21],[0*w_1+w_0,20*w_1+w_0],\"r-\",linewidth=4)\n",
    "plt.xlim(0,max(x)*1.1)\n",
    "plt.ylim(0,max(y)*1.1)\n",
    "plt.xlabel('x- axis')\n",
    "plt.ylabel('y- axis')\n",
    "plt.show()\n"
   ]
  },
  {
   "cell_type": "markdown",
   "metadata": {},
   "source": [
    "###Normal equation\n",
    "Most straightforward way of solving for weight values is using normal equation.\n",
    "\n",
    "$$XW=Y$$\n",
    "$$X^T X W=X^TY$$\n",
    "$$W=(X^TX)^{-1}X^TY$$"
   ]
  },
  {
   "cell_type": "markdown",
   "metadata": {},
   "source": [
    "####Using numpy matrices"
   ]
  },
  {
   "cell_type": "code",
   "execution_count": 2,
   "metadata": {
    "collapsed": false,
    "scrolled": true
   },
   "outputs": [
    {
     "name": "stdout",
     "output_type": "stream",
     "text": [
      "W_0 = 4.87\n",
      "W_1 = 1.99\n"
     ]
    }
   ],
   "source": [
    "X=np.matrix([[1]*len(x),x]).getT()\n",
    "Y=np.matrix(y)\n",
    "W=(X.getT()*X).getI()*X.getT()*Y.getT()\n",
    "print 'W_0 = %0.2f'%W[0]\n",
    "print 'W_1 = %0.2f'%W[1]"
   ]
  },
  {
   "cell_type": "markdown",
   "metadata": {},
   "source": [
    "####Using sklearn library in python"
   ]
  },
  {
   "cell_type": "code",
   "execution_count": 3,
   "metadata": {
    "collapsed": false
   },
   "outputs": [
    {
     "name": "stdout",
     "output_type": "stream",
     "text": [
      "W_0 = 4.87\n",
      "W_1 = 1.99\n"
     ]
    }
   ],
   "source": [
    "from sklearn import linear_model\n",
    "# Create linear regression object\n",
    "l_reg=linear_model.LinearRegression()\n",
    "\n",
    "# Train model\n",
    "l_reg.fit(x.reshape(-1,1),Y.reshape(-1,1))\n",
    "\n",
    "print 'W_0 = %0.2f'%l_reg.intercept_\n",
    "print 'W_1 = %0.2f'%l_reg.coef_"
   ]
  },
  {
   "cell_type": "markdown",
   "metadata": {},
   "source": [
    "When we create the dataset we used $w_0=5 $ and $w_1=2$ , how do they compare to weights calculated using Normal equation?"
   ]
  },
  {
   "cell_type": "markdown",
   "metadata": {
    "collapsed": true,
    "scrolled": true
   },
   "source": [
    "###Least squares mean method\n",
    "In this method we try to find a curve such that the sum of the squares of the distance from curve to data points will be minimum.<br>\n",
    "For a 2D data set such as our previous example data we can write following formula.\n",
    "$$ \\begin{bmatrix}x_0 &x_1 \\end{bmatrix} \\begin{bmatrix}w_0\\\\w_1\\end{bmatrix} =\\hat{y}$$\n",
    "\n",
    "$\\hat{y}$ is the estimated y value for given $x$ using $w$ weights \n",
    "\n",
    "Our goal is to minimize $\\frac{1}{m}\\sum_{i=1}^{m}(\\hat{y^i}-y^i)^2$ with respect to $w$ weights, lets call this loss $(J(w))$. This is devided by 2 considering future calculations (Gradient descent)\n",
    "\n",
    "\n",
    "$$\\begin{equation}\n",
    "\\begin{split}\n",
    "J(w)& = \\frac{1}{2m}\\sum_{i=1}^{m}(\\hat{y^i}-y^i)^2 \\\\\n",
    " & = \\frac{1}{2m}\\sum_{i=1}^{m}(w_0+w_1x_1^i-y^i)^2\n",
    "\\end{split}\n",
    "\\end{equation}$$\n",
    "In order to minimize thie loss function we are going to use Gradient descent approach\n"
   ]
  },
  {
   "cell_type": "markdown",
   "metadata": {
    "collapsed": true
   },
   "source": [
    "###Gradient Descent\n",
    "\n",
    "In gradient descent approach we iteratively converge weight values using following formula, that is we move weights towards their negative gradient direction step by step. We have to make sure that we do this simultaniously in all weights.\n",
    "\n",
    "$$ w_j=w_j-\\alpha \\frac{\\partial J(w)}{\\partial w_j}$$\n",
    "\n",
    "\n",
    "In our 2 dimensional example we have two weights, intercept (bias) and slope of the line:\n",
    "\n",
    "$$\\begin{equation}\n",
    "\\begin{split}\n",
    "w_0 & = w_0-\\alpha\\frac{1}{m}\\sum_{i=1}^{m}(\\hat{y^i}-y^i) \\\\\n",
    "w_1 & = w_1-\\alpha\\frac{1}{m}\\sum_{i=1}^{m}((\\hat{y^i}-y^i)x^i)\n",
    "\\end{split}\n",
    "\\end{equation}$$"
   ]
  },
  {
   "cell_type": "code",
   "execution_count": 4,
   "metadata": {
    "collapsed": false
   },
   "outputs": [
    {
     "data": {
      "image/png": "[encoded data removed]",
      "text/plain": [
       "<matplotlib.figure.Figure at 0x7f4298c8f610>"
      ]
     },
     "metadata": {},
     "output_type": "display_data"
    },
    {
     "name": "stdout",
     "output_type": "stream",
     "text": [
      "W_0 = 4.77\n",
      "W_1 = 2.00\n"
     ]
    }
   ],
   "source": [
    "alpha=0.00005\n",
    "w=np.array([[0],[0]])\n",
    "iterations=2001\n",
    "m=len(Y)\n",
    "cost_hist=[]\n",
    "ite=[]\n",
    "\n",
    "def cost_j(X,Y,w):\n",
    "    te=(X*w-Y.getT())\n",
    "    return float(te.getT()*te)/(2*len(Y))\n",
    "\n",
    "for i in range(iterations):\n",
    "    w=w-(alpha/m)*X.getT()*(X*w-Y.getT())\n",
    "    if i%10==0 and i!=0:\n",
    "        cost_hist.append(cost_j(X,Y,w))\n",
    "        ite.append(i)\n",
    "        \n",
    "plt.plot(ite,cost_hist,'o')\n",
    "plt.xlabel('Iteration')\n",
    "plt.ylabel('Loss value')\n",
    "plt.show() \n",
    "print 'W_0 = %0.2f'%w[0]\n",
    "print 'W_1 = %0.2f'%w[1]"
   ]
  },
  {
   "cell_type": "markdown",
   "metadata": {},
   "source": [
    "####It turns out that the output of this algorithm is very sensitive to our selection of alpha value. If algorithm doesn't converge choose a smaller alpha value"
   ]
  },
  {
   "cell_type": "code",
   "execution_count": 5,
   "metadata": {
    "collapsed": false
   },
   "outputs": [
    {
     "data": {
      "image/png": "[encoded data removed]",
      "text/plain": [
       "<matplotlib.figure.Figure at 0x7f4298c8f410>"
      ]
     },
     "metadata": {},
     "output_type": "display_data"
    }
   ],
   "source": [
    "from mpl_toolkits.mplot3d import Axes3D\n",
    "from matplotlib import cm\n",
    "from matplotlib.ticker import LinearLocator, FormatStrFormatter\n",
    "import matplotlib.pyplot as plt\n",
    "\n",
    "def cost_j(X,Y,w):\n",
    "    te=(X*w-Y.getT())\n",
    "    return float(te.getT()*te)/(2*len(Y))\n",
    "\n",
    "\n",
    "fig = plt.figure()\n",
    "ax = fig.gca(projection='3d')\n",
    "w_0 = np.arange(0, 10, 0.5)\n",
    "w_1 = np.arange(0, 4, 0.1)\n",
    "w_0, w_1 = np.meshgrid(w_0, w_1)\n",
    "x_len=np.shape(w_0)[0]\n",
    "y_len=np.shape(w_1)[1]\n",
    "Z=[[cost_j(X,Y,np.array([[w_0[i][j]],[w_1[i][j]]])) for j in range(y_len)] for i in range(x_len)]\n",
    "\n",
    "ax.plot_surface(w_0, w_1, Z, rstride=1, cstride=1, cmap=cm.jet,linewidth=0, antialiased=False)\n",
    "ax.set_xlabel('w_0')\n",
    "ax.set_ylabel('w_1')\n",
    "ax.set_zlabel('Loss value')\n",
    "plt.show()"
   ]
  },
  {
   "cell_type": "markdown",
   "metadata": {},
   "source": [
    "###There are lots of different ways to minimize a function. Following is another method using Nelder-Mead algorithm in scipy.optimize library"
   ]
  },
  {
   "cell_type": "code",
   "execution_count": 6,
   "metadata": {
    "collapsed": false
   },
   "outputs": [
    {
     "name": "stdout",
     "output_type": "stream",
     "text": [
      "Optimization terminated successfully.\n",
      "         Current function value: 1044.753964\n",
      "         Iterations: 98\n",
      "         Function evaluations: 185\n",
      "W_0 = 4.86\n",
      "W_1 = 1.99\n"
     ]
    }
   ],
   "source": [
    "from scipy.optimize import minimize\n",
    "w=np.array([0,0])\n",
    "def cost_j(w):\n",
    "    w1=np.matrix([w[0],w[1]])\n",
    "    te=(X*w1.getT()-Y.getT())\n",
    "    return float(te.getT()*te)/(2*len(Y))\n",
    "res = minimize(cost_j, w, method='nelder-mead',options={'xtol': 1e-2, 'disp': True})\n",
    "print 'W_0 = %0.2f'%res.x[0]\n",
    "print 'W_1 = %0.2f'%res.x[1]"
   ]
  },
  {
   "cell_type": "markdown",
   "metadata": {},
   "source": [
    "###Using Tensorflow to do gradient descent"
   ]
  },
  {
   "cell_type": "code",
   "execution_count": 7,
   "metadata": {
    "collapsed": false
   },
   "outputs": [
    {
     "name": "stdout",
     "output_type": "stream",
     "text": [
      "W_0 = 4.77\n",
      "W_1 = 2.00\n"
     ]
    }
   ],
   "source": [
    "import tensorflow as tf\n",
    "\n",
    "w0_tf = tf.Variable(tf.zeros([1]))\n",
    "w1_tf = tf.Variable(tf.zeros([1]))\n",
    "Y_tf=Y.getT()\n",
    "X_tf=X[:,1]\n",
    "\n",
    "loss = tf.reduce_mean(tf.square(X_tf*w1_tf+w0_tf - Y_tf))\n",
    " \n",
    "optimizer = tf.train.GradientDescentOptimizer(0.005)\n",
    "train = optimizer.minimize(loss)\n",
    "init = tf.initialize_all_variables()\n",
    "\n",
    "sess = tf.Session()\n",
    "sess.run(init)\n",
    "\n",
    "for step in xrange(2001):\n",
    "    sess.run(train)\n",
    "\n",
    "print 'W_0 = %0.2f'%sess.run(w0_tf)\n",
    "print 'W_1 = %0.2f'%sess.run(w1_tf)"
   ]
  }
 ],
 "metadata": {
  "kernelspec": {
   "display_name": "Python 2",
   "language": "python",
   "name": "python2"
  },
  "language_info": {
   "codemirror_mode": {
    "name": "ipython",
    "version": 2
   },
   "file_extension": ".py",
   "mimetype": "text/x-python",
   "name": "python",
   "nbconvert_exporter": "python",
   "pygments_lexer": "ipython2",
   "version": "2.7.12"
  }
 },
 "nbformat": 4,
 "nbformat_minor": 0
}
