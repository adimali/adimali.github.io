{
 "cells": [
  {
   "cell_type": "markdown",
   "metadata": {},
   "source": [
    "<h1 align=\"center\"  style=\"font-family:Fontin;color:#000066;font-size:24pt\">Monte Carlo Simulation for Laplace equation with Dirichlet boundary conditions</h1> \n",
    "\n",
    "<h2 align=\"left\"  style=\"font-family:Fontin;font-size:14pt\">Partial Differential equation:</h2> \n",
    "\n",
    " $$ u_{xx}+u_{yy}=0 \\qquad -5<x<5 \\quad 0<y<5 $$\n",
    " \n",
    " <h2 align=\"left\"  style=\"font-family:Fontin;font-size:14pt\">Boundary conditions:</h2> \n",
    " \n",
    "\\begin{equation} \n",
    "   u_{(x,y)} = g{(x,y)}= \\begin{cases}\n",
    " 1 & \\text{for top boundary;}  \\quad y = 5 \\\\\n",
    " 0 & \\text{for other boundaries;} \\quad y = 0, x= -5,5  \n",
    "\\end{cases}\n",
    "\\end{equation}\n",
    "\n",
    "We use monte Carlo simulation to solve this PDE at point $A(3,3)$\n",
    "\n",
    "We generate large number of random walks initiated from point A and terminate when they reach one of the boundaries. Then sum up the weighted random walks with weights based on boundary conditions to obtain the approximate solution for PDE at point A.\n",
    "\n",
    "Random walk started from point A will have certain probabilities to move to its neighbouring positions on the grid. To calculate those probabilities we will rewrite the PDE using central difference approximation.\n",
    "\n",
    "\\begin{align}\n",
    "u_{xx}=& [u_{i,j+1}-2u_{i,j}+u_{i,j-1}]/h^2\\\\\n",
    "u_{yy}=& [u_{i+1,j}-2u_{i,j}+u_{i-1,j}]/h^2\n",
    "\\end{align}\n",
    "\n",
    "Pluging these back to PDE will give us,\n",
    "\n",
    "\\begin{equation}\n",
    "u_{ij}=\\frac{u_{i,j+1}+u_{i,j-1}+u_{i+1,j}+u_{i-1,j}}{4}\n",
    "\\end{equation}\n",
    "\n",
    "This means that the probability of moving to any of the four neighbors is .25\n",
    "\n",
    "Now lets write a Python code to simulate this."
   ]
  },
  {
   "cell_type": "code",
   "execution_count": 21,
   "metadata": {
    "collapsed": false
   },
   "outputs": [
    {
     "name": "stdout",
     "output_type": "stream",
     "text": [
      "0.4117\n"
     ]
    }
   ],
   "source": [
    "import random\n",
    "from operator import add\n",
    "start=[3,3]\n",
    "iterations=10000\n",
    "w_sum=0\n",
    "move=[[1,0],[-1,0],[0,1],[0,-1]]\n",
    "def weight(pos):\n",
    "    if pos[1]==5:\n",
    "        return 1\n",
    "    else:\n",
    "        return 0\n",
    "def is_boundary(pos):\n",
    "    if pos[0]==-5 or pos[0]==5 or pos[1]==0 or pos[1]==5:\n",
    "        return True\n",
    "    else:\n",
    "        return False\n",
    "for i in range(iterations):\n",
    "    pos=start\n",
    "    while not is_boundary(pos):\n",
    "        pos=map(add,pos,random.choice(move))\n",
    "    w_sum+=weight(pos)\n",
    "    #print i\n",
    "print float(w_sum)/iterations    \n",
    "        "
   ]
  },
  {
   "cell_type": "markdown",
   "metadata": {},
   "source": [
    "<h2 align=\"left\"  style=\"font-family:Fontin;font-size:14pt\">Result obtained from mathematica:</h2> "
   ]
  },
  {
   "cell_type": "code",
   "execution_count": 1,
   "metadata": {
    "collapsed": false
   },
   "outputs": [
    {
     "data": {
      "text/html": [
       "<?xml version=\"1.0\" encoding=\"UTF-8\"?>\n",
       "<!DOCTYPE html PUBLIC \"-//W3C//DTD XHTML 1.1 plus MathML 2.0//EN\"\n",
       "        \"HTMLFiles/xhtml-math11-f.dtd\">\n",
       "\n",
       "<!-- Created with the Wolfram Language : www.wolfram.com -->\n",
       "\n",
       "<html xmlns=\"http://www.w3.org/1999/xhtml\">\n",
       "<head>\n",
       " <title>\n",
       "  Untitled\n",
       " </title>\n",
       " <link href=\"HTMLFiles/laplace_1.css\" rel=\"stylesheet\" type=\"text/css\" />\n",
       "</head>\n",
       "\n",
       "<body>\n",
       "\n",
       "<p class=\"Input\">\n",
       " <img src=\"HTMLFiles/laplace_1_1.png\" alt=\"laplace_1_1.png\" width=\"511\" height=\"17\" style=\"vertical-align:middle\" />\n",
       "</p>\n",
       "\n",
       "<p class=\"Input\">\n",
       " <img src=\"HTMLFiles/laplace_1_2.png\" alt=\"laplace_1_2.png\" width=\"602\" height=\"40\" style=\"vertical-align:middle\" />\n",
       "</p>\n",
       "\n",
       "<p class=\"Output\">\n",
       " <img src=\"HTMLFiles/laplace_1_3.gif\" alt=\"laplace_1_3.gif\" width=\"507\" height=\"54\" style=\"vertical-align:middle\" />\n",
       "</p>\n",
       "\n",
       "<p class=\"Input\">\n",
       " <img src=\"HTMLFiles/laplace_1_4.gif\" alt=\"laplace_1_4.gif\" width=\"675\" height=\"40\" style=\"vertical-align:middle\" />\n",
       "</p>\n",
       "\n",
       "<p class=\"Output\">\n",
       " <img src=\"HTMLFiles/laplace_1_5.gif\" alt=\"laplace_1_5.gif\" width=\"360\" height=\"293\" style=\"vertical-align:middle\" />\n",
       "</p>\n",
       "\n",
       "<p class=\"Input\">\n",
       " <img src=\"HTMLFiles/laplace_1_6.png\" alt=\"laplace_1_6.png\" width=\"351\" height=\"17\" style=\"vertical-align:middle\" />\n",
       "</p>\n",
       "\n",
       "<p class=\"Output\">\n",
       " <img src=\"HTMLFiles/laplace_1_7.png\" alt=\"laplace_1_7.png\" width=\"90\" height=\"17\" style=\"vertical-align:middle\" />\n",
       "</p>\n",
       "\n",
       "\n",
       "\n",
       "\n",
       "<div style=\"font-family:Helvetica; font-size:11px; width:100%; border:1px none #999999; border-top-style:solid; padding-top:2px; margin-top:20px;\">\n",
       " <a href=\"http://www.wolfram.com/language/\" style=\"color:#000; text-decoration:none;\">\n",
       "  <span style=\"color:#555555\">Created with the Wolfram Language</span> \n",
       " </a>\n",
       "</div>\n",
       "</body>\n",
       "\n",
       "</html>\n"
      ],
      "text/plain": [
       "<IPython.core.display.HTML object>"
      ]
     },
     "execution_count": 1,
     "metadata": {},
     "output_type": "execute_result"
    }
   ],
   "source": [
    "from IPython.display import HTML\n",
    "HTML(filename='laplace_1.htm')"
   ]
  }
 ],
 "metadata": {
  "kernelspec": {
   "display_name": "Python 2",
   "language": "python",
   "name": "python2"
  },
  "language_info": {
   "codemirror_mode": {
    "name": "ipython",
    "version": 2
   },
   "file_extension": ".py",
   "mimetype": "text/x-python",
   "name": "python",
   "nbconvert_exporter": "python",
   "pygments_lexer": "ipython2",
   "version": "2.7.12"
  }
 },
 "nbformat": 4,
 "nbformat_minor": 0
}
