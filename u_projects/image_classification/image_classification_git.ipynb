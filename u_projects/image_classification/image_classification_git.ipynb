{
 "cells": [
  {
   "cell_type": "markdown",
   "metadata": {
    "collapsed": true
   },
   "source": [
    "# Image Classification\n",
    "In this project, we'll classify images from the [CIFAR-10 dataset](https://www.cs.toronto.edu/~kriz/cifar.html).  The dataset consists of airplanes, dogs, cats, and other objects. We'll preprocess the images, then train a convolutional neural network on all the samples. The images need to be normalized and the labels need to be one-hot encoded.\n",
    "## Get the Data"
   ]
  },
  {
   "cell_type": "code",
   "execution_count": 1,
   "metadata": {},
   "outputs": [
    {
     "name": "stdout",
     "output_type": "stream",
     "text": [
      "All files found!\n"
     ]
    }
   ],
   "source": [
    "from urllib.request import urlretrieve\n",
    "from os.path import isfile, isdir\n",
    "from tqdm import tqdm\n",
    "import problem_unittests as tests\n",
    "import tarfile\n",
    "\n",
    "cifar10_dataset_folder_path = 'cifar-10-batches-py'\n",
    "\n",
    "class DLProgress(tqdm):\n",
    "    last_block = 0\n",
    "\n",
    "    def hook(self, block_num=1, block_size=1, total_size=None):\n",
    "        self.total = total_size\n",
    "        self.update((block_num - self.last_block) * block_size)\n",
    "        self.last_block = block_num\n",
    "\n",
    "if not isfile('cifar-10-python.tar.gz'):\n",
    "    with DLProgress(unit='B', unit_scale=True, miniters=1, desc='CIFAR-10 Dataset') as pbar:\n",
    "        urlretrieve(\n",
    "            'https://www.cs.toronto.edu/~kriz/cifar-10-python.tar.gz',\n",
    "            'cifar-10-python.tar.gz',\n",
    "            pbar.hook)\n",
    "\n",
    "if not isdir(cifar10_dataset_folder_path):\n",
    "    with tarfile.open('cifar-10-python.tar.gz') as tar:\n",
    "        tar.extractall()\n",
    "        tar.close()\n",
    "\n",
    "\n",
    "tests.test_folder_path(cifar10_dataset_folder_path)"
   ]
  },
  {
   "cell_type": "markdown",
   "metadata": {},
   "source": [
    "## Explore the Data\n",
    "The dataset is broken into batches to prevent your machine from running out of memory.  The CIFAR-10 dataset consists of 5 batches, named `data_batch_1`, `data_batch_2`, etc.. Each batch contains the labels and images that are one of the following:\n",
    "* airplane\n",
    "* automobile\n",
    "* bird\n",
    "* cat\n",
    "* deer\n",
    "* dog\n",
    "* frog\n",
    "* horse\n",
    "* ship\n",
    "* truck\n",
    "\n",
    "Understanding a dataset is part of making predictions on the data.  Play around with the code cell below by changing the `batch_id` and `sample_id`. The `batch_id` is the id for a batch (1-5). The `sample_id` is the id for a image and label pair in the batch.\n",
    "\n",
    "Ask yourself \"What are all possible labels?\", \"What is the range of values for the image data?\", \"Are the labels in order or random?\".  Answers to questions like these will help you preprocess the data and end up with better predictions."
   ]
  },
  {
   "cell_type": "code",
   "execution_count": 2,
   "metadata": {},
   "outputs": [
    {
     "name": "stdout",
     "output_type": "stream",
     "text": [
      "\n",
      "Stats of batch 1:\n",
      "Samples: 10000\n",
      "Label Counts: {0: 1005, 1: 974, 2: 1032, 3: 1016, 4: 999, 5: 937, 6: 1030, 7: 1001, 8: 1025, 9: 981}\n",
      "First 20 Labels: [6, 9, 9, 4, 1, 1, 2, 7, 8, 3, 4, 7, 7, 2, 9, 9, 9, 3, 2, 6]\n",
      "\n",
      "Example of Image 5:\n",
      "Image - Min Value: 0 Max Value: 252\n",
      "Image - Shape: (32, 32, 3)\n",
      "Label - Label Id: 1 Name: automobile\n"
     ]
    },
    {
     "data": {
      "image/png": "[encoded data removed]",
      "text/plain": [
       "<matplotlib.figure.Figure at 0x7fada5963470>"
      ]
     },
     "metadata": {
      "image/png": {
       "height": 250,
       "width": 253
      }
     },
     "output_type": "display_data"
    }
   ],
   "source": [
    "%matplotlib inline\n",
    "%config InlineBackend.figure_format = 'retina'\n",
    "\n",
    "import helper\n",
    "import numpy as np\n",
    "\n",
    "# Explore the dataset\n",
    "batch_id = 1\n",
    "sample_id = 5\n",
    "helper.display_stats(cifar10_dataset_folder_path, batch_id, sample_id)"
   ]
  },
  {
   "cell_type": "markdown",
   "metadata": {},
   "source": [
    "## Implement Preprocess Functions\n",
    "### Normalize\n",
    "In the cell below, implement the `normalize` function to take in image data, `x`, and return it as a normalized Numpy array. The values should be in the range of 0 to 1, inclusive.  The return object should be the same shape as `x`."
   ]
  },
  {
   "cell_type": "code",
   "execution_count": 3,
   "metadata": {},
   "outputs": [
    {
     "name": "stdout",
     "output_type": "stream",
     "text": [
      "Tests Passed\n"
     ]
    }
   ],
   "source": [
    "def normalize(x):\n",
    "    \"\"\"\n",
    "    Normalize a list of sample image data in the range of 0 to 1\n",
    "    \"\"\"\n",
    "    np_x=np.asarray(x)\n",
    "    return (np_x-np.amin(np_x))/(np.amax(np_x)-np.amin(np_x))\n",
    "\n",
    "\n",
    "tests.test_normalize(normalize)"
   ]
  },
  {
   "cell_type": "markdown",
   "metadata": {},
   "source": [
    "### One-hot encode\n",
    "Just like the previous code cell, you'll be implementing a function for preprocessing.  This time, you'll implement the `one_hot_encode` function. The input, `x`, are a list of labels.  Implement the function to return the list of labels as One-Hot encoded Numpy array.  The possible values for labels are 0 to 9. The one-hot encoding function should return the same encoding for each value between each call to `one_hot_encode`.  Make sure to save the map of encodings outside the function.\n",
    "\n",
    "**Hint:**\n",
    "\n",
    "Look into LabelBinarizer in the preprocessing module of sklearn."
   ]
  },
  {
   "cell_type": "code",
   "execution_count": 4,
   "metadata": {},
   "outputs": [
    {
     "name": "stdout",
     "output_type": "stream",
     "text": [
      "Tests Passed\n"
     ]
    }
   ],
   "source": [
    "def one_hot_encode(x):\n",
    "    \"\"\"\n",
    "    One hot encode a list of sample labels. Return a one-hot encoded vector for each label.\n",
    "    \"\"\"\n",
    "    # TODO: Implement Function\n",
    "    from sklearn import preprocessing\n",
    "    lb = preprocessing.LabelBinarizer()\n",
    "    lb.fit(range(10))\n",
    "    return lb.transform(x)\n",
    "\n",
    "tests.test_one_hot_encode(one_hot_encode)"
   ]
  },
  {
   "cell_type": "markdown",
   "metadata": {},
   "source": [
    "### Randomize Data\n",
    "As you saw from exploring the data above, the order of the samples are randomized.  It doesn't hurt to randomize it again, but you don't need to for this dataset."
   ]
  },
  {
   "cell_type": "markdown",
   "metadata": {},
   "source": [
    "## Preprocess all the data and save it\n",
    "Running the code cell below will preprocess all the CIFAR-10 data and save it to file. The code below also uses 10% of the training data for validation."
   ]
  },
  {
   "cell_type": "code",
   "execution_count": 5,
   "metadata": {
    "collapsed": true
   },
   "outputs": [],
   "source": [
    "# Preprocess Training, Validation, and Testing Data\n",
    "helper.preprocess_and_save_data(cifar10_dataset_folder_path, normalize, one_hot_encode)"
   ]
  },
  {
   "cell_type": "markdown",
   "metadata": {},
   "source": [
    "# Check Point\n",
    "This is your first checkpoint.  If you ever decide to come back to this notebook or have to restart the notebook, you can start from here.  The preprocessed data has been saved to disk."
   ]
  },
  {
   "cell_type": "code",
   "execution_count": 1,
   "metadata": {
    "collapsed": true
   },
   "outputs": [],
   "source": [
    "import pickle\n",
    "import problem_unittests as tests\n",
    "import helper\n",
    "\n",
    "# Load the Preprocessed Validation data\n",
    "valid_features, valid_labels = pickle.load(open('preprocess_validation.p', mode='rb'))"
   ]
  },
  {
   "cell_type": "markdown",
   "metadata": {},
   "source": [
    "## Build the network\n",
    "For the neural network, you'll build each layer into a function.  Most of the code you've seen has been outside of functions. To test your code more thoroughly, we require that you put each layer in a function.  This allows us to give you better feedback and test for simple mistakes using our unittests before you submit your project.\n",
    "\n",
    ">**Note:** If you're finding it hard to dedicate enough time for this course each week, we've provided a small shortcut to this part of the project. In the next couple of problems, you'll have the option to use classes from the [TensorFlow Layers](https://www.tensorflow.org/api_docs/python/tf/layers) or [TensorFlow Layers (contrib)](https://www.tensorflow.org/api_guides/python/contrib.layers) packages to build each layer, except the layers you build in the \"Convolutional and Max Pooling Layer\" section.  TF Layers is similar to Keras's and TFLearn's abstraction to layers, so it's easy to pickup.\n",
    "\n",
    ">However, if you would like to get the most out of this course, try to solve all the problems _without_ using anything from the TF Layers packages. You **can** still use classes from other packages that happen to have the same name as ones you find in TF Layers! For example, instead of using the TF Layers version of the `conv2d` class, [tf.layers.conv2d](https://www.tensorflow.org/api_docs/python/tf/layers/conv2d), you would want to use the TF Neural Network version of `conv2d`, [tf.nn.conv2d](https://www.tensorflow.org/api_docs/python/tf/nn/conv2d). \n",
    "\n",
    "Let's begin!\n",
    "\n",
    "### Input\n",
    "The neural network needs to read the image data, one-hot encoded labels, and dropout keep probability. Implement the following functions\n",
    "* Implement `neural_net_image_input`\n",
    " * Return a [TF Placeholder](https://www.tensorflow.org/api_docs/python/tf/placeholder)\n",
    " * Set the shape using `image_shape` with batch size set to `None`.\n",
    " * Name the TensorFlow placeholder \"x\" using the TensorFlow `name` parameter in the [TF Placeholder](https://www.tensorflow.org/api_docs/python/tf/placeholder).\n",
    "* Implement `neural_net_label_input`\n",
    " * Return a [TF Placeholder](https://www.tensorflow.org/api_docs/python/tf/placeholder)\n",
    " * Set the shape using `n_classes` with batch size set to `None`.\n",
    " * Name the TensorFlow placeholder \"y\" using the TensorFlow `name` parameter in the [TF Placeholder](https://www.tensorflow.org/api_docs/python/tf/placeholder).\n",
    "* Implement `neural_net_keep_prob_input`\n",
    " * Return a [TF Placeholder](https://www.tensorflow.org/api_docs/python/tf/placeholder) for dropout keep probability.\n",
    " * Name the TensorFlow placeholder \"keep_prob\" using the TensorFlow `name` parameter in the [TF Placeholder](https://www.tensorflow.org/api_docs/python/tf/placeholder).\n",
    "\n",
    "These names will be used at the end of the project to load your saved model.\n",
    "\n",
    "Note: `None` for shapes in TensorFlow allow for a dynamic size."
   ]
  },
  {
   "cell_type": "code",
   "execution_count": 2,
   "metadata": {},
   "outputs": [
    {
     "name": "stdout",
     "output_type": "stream",
     "text": [
      "Image Input Tests Passed.\n",
      "Label Input Tests Passed.\n",
      "Keep Prob Tests Passed.\n"
     ]
    }
   ],
   "source": [
    "import tensorflow as tf\n",
    "\n",
    "def neural_net_image_input(image_shape):\n",
    "    \"\"\"\n",
    "    Return a Tensor for a batch of image input\n",
    "    \"\"\"\n",
    "    # TODO: Implement Function\n",
    "    x = tf.placeholder(tf.float32, shape=(None,image_shape[0],image_shape[1],image_shape[2]), name=\"x\")\n",
    "    return x\n",
    "\n",
    "\n",
    "def neural_net_label_input(n_classes):\n",
    "    \"\"\"\n",
    "    Return a Tensor for a batch of label input\n",
    "    \"\"\"\n",
    "    # TODO: Implement Function\n",
    "    y = tf.placeholder(tf.float32, shape=(None,n_classes), name=\"y\")\n",
    "    return y\n",
    "\n",
    "\n",
    "def neural_net_keep_prob_input():\n",
    "    \"\"\"\n",
    "    Return a Tensor for keep probability\n",
    "    \"\"\"\n",
    "    # TODO: Implement Function\n",
    "    keep_prob = tf.placeholder(tf.float32, name=\"keep_prob\")\n",
    "    return keep_prob\n",
    "\n",
    "tf.reset_default_graph()\n",
    "tests.test_nn_image_inputs(neural_net_image_input)\n",
    "tests.test_nn_label_inputs(neural_net_label_input)\n",
    "tests.test_nn_keep_prob_inputs(neural_net_keep_prob_input)"
   ]
  },
  {
   "cell_type": "markdown",
   "metadata": {},
   "source": [
    "### Convolution and Max Pooling Layer\n",
    "Convolution layers have a lot of success with images. For this code cell, you should implement the function `conv2d_maxpool` to apply convolution then max pooling:\n",
    "* Create the weight and bias using `conv_ksize`, `conv_num_outputs` and the shape of `x_tensor`.\n",
    "* Apply a convolution to `x_tensor` using weight and `conv_strides`.\n",
    " * We recommend you use same padding, but you're welcome to use any padding.\n",
    "* Add bias\n",
    "* Add a nonlinear activation to the convolution.\n",
    "* Apply Max Pooling using `pool_ksize` and `pool_strides`.\n",
    " * We recommend you use same padding, but you're welcome to use any padding.\n",
    "\n",
    "**Note:** You **can't** use [TensorFlow Layers](https://www.tensorflow.org/api_docs/python/tf/layers) or [TensorFlow Layers (contrib)](https://www.tensorflow.org/api_guides/python/contrib.layers) for **this** layer, but you can still use TensorFlow's [Neural Network](https://www.tensorflow.org/api_docs/python/tf/nn) package. You may still use the shortcut option for all the **other** layers.\n",
    "\n",
    "** Hint: **\n",
    "\n",
    "When unpacking values as an argument in Python, look into the [unpacking](https://docs.python.org/3/tutorial/controlflow.html#unpacking-argument-lists) operator. "
   ]
  },
  {
   "cell_type": "code",
   "execution_count": 3,
   "metadata": {},
   "outputs": [
    {
     "name": "stdout",
     "output_type": "stream",
     "text": [
      "Tests Passed\n"
     ]
    }
   ],
   "source": [
    "import math\n",
    "def conv2d_maxpool(x_tensor, conv_num_outputs, conv_ksize, conv_strides, pool_ksize, pool_strides):\n",
    "    \"\"\"\n",
    "    Apply convolution then max pooling to x_tensor\n",
    "    :param x_tensor: TensorFlow Tensor\n",
    "    :param conv_num_outputs: Number of outputs for the convolutional layer\n",
    "    :param conv_ksize: kernal size 2-D Tuple for the convolutional layer\n",
    "    :param conv_strides: Stride 2-D Tuple for convolution\n",
    "    :param pool_ksize: kernal size 2-D Tuple for pool\n",
    "    :param pool_strides: Stride 2-D Tuple for pool\n",
    "    \"\"\"\n",
    "    # TODO: Implement Function\n",
    "    channels = x_tensor.get_shape().as_list()[-1]\n",
    "    conv_x, conv_y = conv_ksize\n",
    "    conv_input_size=conv_x*conv_y*channels\n",
    "    weight = tf.Variable(tf.truncated_normal([conv_x, conv_y, channels, conv_num_outputs], stddev=math.sqrt(1.0/conv_input_size)))\n",
    "    bias = tf.Variable(tf.zeros(conv_num_outputs))\n",
    "    \n",
    "    # Apply Convolution\n",
    "    conv_layer = tf.nn.conv2d(x_tensor, weight, strides=[1,conv_strides[0],conv_strides[1],1], padding='SAME')\n",
    "    # Add bias\n",
    "    conv_layer = tf.nn.bias_add(conv_layer, bias)\n",
    "    # Apply activation function\n",
    "    conv_layer = tf.nn.relu(conv_layer)\n",
    "    conv_layer = tf.nn.max_pool(conv_layer,ksize=[1,pool_ksize[0],pool_ksize[1],1],strides=[1,pool_strides[0],pool_strides[1],1],padding='SAME')\n",
    "    return conv_layer \n",
    "\n",
    "tests.test_con_pool(conv2d_maxpool)"
   ]
  },
  {
   "cell_type": "markdown",
   "metadata": {},
   "source": [
    "### Flatten Layer\n",
    "Implement the `flatten` function to change the dimension of `x_tensor` from a 4-D tensor to a 2-D tensor.  The output should be the shape (*Batch Size*, *Flattened Image Size*). Shortcut option: you can use classes from the [TensorFlow Layers](https://www.tensorflow.org/api_docs/python/tf/layers) or [TensorFlow Layers (contrib)](https://www.tensorflow.org/api_guides/python/contrib.layers) packages for this layer. For more of a challenge, only use other TensorFlow packages."
   ]
  },
  {
   "cell_type": "code",
   "execution_count": 4,
   "metadata": {},
   "outputs": [
    {
     "name": "stdout",
     "output_type": "stream",
     "text": [
      "Tests Passed\n"
     ]
    }
   ],
   "source": [
    "def flatten(x_tensor):\n",
    "    \"\"\"\n",
    "    Flatten x_tensor to (Batch Size, Flattened Image Size)\n",
    "    \"\"\"\n",
    "    \n",
    "    return tf.contrib.layers.flatten(x_tensor)\n",
    "\n",
    "tests.test_flatten(flatten)"
   ]
  },
  {
   "cell_type": "markdown",
   "metadata": {},
   "source": [
    "### Fully-Connected Layer\n",
    "Implement the `fully_conn` function to apply a fully connected layer to `x_tensor` with the shape (*Batch Size*, *num_outputs*). Shortcut option: you can use classes from the [TensorFlow Layers](https://www.tensorflow.org/api_docs/python/tf/layers) or [TensorFlow Layers (contrib)](https://www.tensorflow.org/api_guides/python/contrib.layers) packages for this layer. For more of a challenge, only use other TensorFlow packages."
   ]
  },
  {
   "cell_type": "code",
   "execution_count": 5,
   "metadata": {},
   "outputs": [
    {
     "name": "stdout",
     "output_type": "stream",
     "text": [
      "Tests Passed\n"
     ]
    }
   ],
   "source": [
    "def fully_conn(x_tensor, num_outputs):\n",
    "    \"\"\"\n",
    "    Apply a fully connected layer to x_tensor using weight and bias\n",
    "    \"\"\"\n",
    "    inputs=x_tensor.get_shape().as_list()[1]\n",
    "    weights = tf.Variable(tf.truncated_normal([inputs, num_outputs], stddev=math.sqrt(1.0/inputs)))\n",
    "    bias = tf.Variable(tf.zeros(num_outputs))\n",
    "    return tf.nn.relu(tf.add(tf.matmul(x_tensor, weights), bias))\n",
    "\n",
    "tests.test_fully_conn(fully_conn)"
   ]
  },
  {
   "cell_type": "markdown",
   "metadata": {},
   "source": [
    "### Output Layer\n",
    "Implement the `output` function to apply a fully connected layer to `x_tensor` with the shape (*Batch Size*, *num_outputs*). Shortcut option: you can use classes from the [TensorFlow Layers](https://www.tensorflow.org/api_docs/python/tf/layers) or [TensorFlow Layers (contrib)](https://www.tensorflow.org/api_guides/python/contrib.layers) packages for this layer. For more of a challenge, only use other TensorFlow packages.\n",
    "\n",
    "**Note:** Activation, softmax, or cross entropy should **not** be applied to this."
   ]
  },
  {
   "cell_type": "code",
   "execution_count": 6,
   "metadata": {},
   "outputs": [
    {
     "name": "stdout",
     "output_type": "stream",
     "text": [
      "Tests Passed\n"
     ]
    }
   ],
   "source": [
    "def output(x_tensor, num_outputs):\n",
    "    \"\"\"\n",
    "    Apply a output layer to x_tensor using weight and bias\n",
    "    \"\"\"\n",
    "\n",
    "    return tf.contrib.layers.fully_connected(x_tensor,num_outputs,activation_fn=None)\n",
    "\n",
    "\n",
    "tests.test_output(output)"
   ]
  },
  {
   "cell_type": "markdown",
   "metadata": {},
   "source": [
    "### Create Convolutional Model\n",
    "Implement the function `conv_net` to create a convolutional neural network model. The function takes in a batch of images, `x`, and outputs logits.  Use the layers you created above to create this model:\n",
    "\n",
    "* Apply 1, 2, or 3 Convolution and Max Pool layers\n",
    "* Apply a Flatten Layer\n",
    "* Apply 1, 2, or 3 Fully Connected Layers\n",
    "* Apply an Output Layer\n",
    "* Return the output\n",
    "* Apply [TensorFlow's Dropout](https://www.tensorflow.org/api_docs/python/tf/nn/dropout) to one or more layers in the model using `keep_prob`. "
   ]
  },
  {
   "cell_type": "code",
   "execution_count": 7,
   "metadata": {},
   "outputs": [
    {
     "name": "stdout",
     "output_type": "stream",
     "text": [
      "Neural Network Built!\n"
     ]
    }
   ],
   "source": [
    "def conv_net(x, keep_prob):\n",
    "    \"\"\"\n",
    "    Create a convolutional neural network model\n",
    "    \"\"\"\n",
    "\n",
    "    x_tensor=conv2d_maxpool(x, 32, (3,3), (1,1), (2,2), (1,1))\n",
    "    x_tensor=conv2d_maxpool(x_tensor, 64, (3,3), (1,1), (2,2), (1,1))\n",
    "\n",
    "\n",
    "    x_tensor=flatten(x_tensor)\n",
    "\n",
    "\n",
    "    x_tensor=fully_conn(x_tensor, 256)\n",
    "    x_tensor = tf.nn.dropout(x_tensor, keep_prob)\n",
    "    \n",
    "    x_tensor=fully_conn(x_tensor, 128)\n",
    "    x_tensor = tf.nn.dropout(x_tensor, keep_prob)\n",
    "    \n",
    "    x_tensor=fully_conn(x_tensor, 64)\n",
    "    x_tensor = tf.nn.dropout(x_tensor, keep_prob)\n",
    "    \n",
    "\n",
    "    x_tensor = output(x_tensor, 10)\n",
    "\n",
    "    return x_tensor\n",
    "\n",
    "\n",
    "\n",
    "##############################\n",
    "## Build the Neural Network ##\n",
    "##############################\n",
    "\n",
    "# Remove previous weights, bias, inputs, etc..\n",
    "tf.reset_default_graph()\n",
    "\n",
    "# Inputs\n",
    "x = neural_net_image_input((32, 32, 3))\n",
    "y = neural_net_label_input(10)\n",
    "keep_prob = neural_net_keep_prob_input()\n",
    "\n",
    "# Model\n",
    "logits = conv_net(x, keep_prob)\n",
    "\n",
    "# Name logits Tensor, so that is can be loaded from disk after training\n",
    "logits = tf.identity(logits, name='logits')\n",
    "\n",
    "# Loss and Optimizer\n",
    "cost = tf.reduce_mean(tf.nn.softmax_cross_entropy_with_logits(logits=logits, labels=y))\n",
    "optimizer = tf.train.AdamOptimizer().minimize(cost)\n",
    "\n",
    "# Accuracy\n",
    "correct_pred = tf.equal(tf.argmax(logits, 1), tf.argmax(y, 1))\n",
    "accuracy = tf.reduce_mean(tf.cast(correct_pred, tf.float32), name='accuracy')\n",
    "\n",
    "tests.test_conv_net(conv_net)"
   ]
  },
  {
   "cell_type": "markdown",
   "metadata": {},
   "source": [
    "## Train the Neural Network\n",
    "### Single Optimization\n",
    "Implement the function `train_neural_network` to do a single optimization.  The optimization should use `optimizer` to optimize in `session` with a `feed_dict` of the following:\n",
    "* `x` for image input\n",
    "* `y` for labels\n",
    "* `keep_prob` for keep probability for dropout\n",
    "\n",
    "This function will be called for each batch, so `tf.global_variables_initializer()` has already been called.\n",
    "\n",
    "Note: Nothing needs to be returned. This function is only optimizing the neural network."
   ]
  },
  {
   "cell_type": "code",
   "execution_count": 8,
   "metadata": {},
   "outputs": [
    {
     "name": "stdout",
     "output_type": "stream",
     "text": [
      "Tests Passed\n"
     ]
    }
   ],
   "source": [
    "def train_neural_network(session, optimizer, keep_probability, feature_batch, label_batch):\n",
    "    \"\"\"\n",
    "    Optimize the session on a batch of images and labels\n",
    "    : session: Current TensorFlow session\n",
    "    : optimizer: TensorFlow optimizer function\n",
    "    : keep_probability: keep probability\n",
    "    : feature_batch: Batch of Numpy image data\n",
    "    : label_batch: Batch of Numpy label data\n",
    "    \"\"\"\n",
    "    session.run(optimizer, feed_dict={\n",
    "                x: feature_batch,\n",
    "                y: label_batch,\n",
    "                keep_prob: keep_probability})\n",
    "    \n",
    "    pass\n",
    "\n",
    "tests.test_train_nn(train_neural_network)"
   ]
  },
  {
   "cell_type": "markdown",
   "metadata": {},
   "source": [
    "### Show Stats\n",
    "Implement the function `print_stats` to print loss and validation accuracy.  Use the global variables `valid_features` and `valid_labels` to calculate validation accuracy.  Use a keep probability of `1.0` to calculate the loss and validation accuracy."
   ]
  },
  {
   "cell_type": "code",
   "execution_count": 9,
   "metadata": {
    "collapsed": true
   },
   "outputs": [],
   "source": [
    "def print_stats(session, feature_batch, label_batch, cost, accuracy):\n",
    "    \"\"\"\n",
    "    Print information about loss and validation accuracy\n",
    "    : session: Current TensorFlow session\n",
    "    : feature_batch: Batch of Numpy image data\n",
    "    : label_batch: Batch of Numpy label data\n",
    "    : cost: TensorFlow cost function\n",
    "    : accuracy: TensorFlow accuracy function\n",
    "    \"\"\"\n",
    "\n",
    "    loss = session.run(cost, feed_dict={x: feature_batch,y: label_batch,keep_prob: 1.0})\n",
    "    valid_acc = session.run(accuracy, feed_dict={x: valid_features, y: valid_labels,keep_prob: 1.0})\n",
    "    print ('Loss: {:>10.4f}, validation Accuracy: {:.6f}'.format(loss, valid_acc) )\n",
    "    pass"
   ]
  },
  {
   "cell_type": "markdown",
   "metadata": {},
   "source": [
    "### Hyperparameters\n",
    "Tune the following parameters:\n",
    "* Set `epochs` to the number of iterations until the network stops learning or start overfitting\n",
    "* Set `batch_size` to the highest number that your machine has memory for.  Most people set them to common sizes of memory:\n",
    " * 64\n",
    " * 128\n",
    " * 256\n",
    " * ...\n",
    "* Set `keep_probability` to the probability of keeping a node using dropout"
   ]
  },
  {
   "cell_type": "code",
   "execution_count": 10,
   "metadata": {
    "collapsed": true
   },
   "outputs": [],
   "source": [
    "epochs = 30\n",
    "batch_size = 64\n",
    "keep_probability = 0.7"
   ]
  },
  {
   "cell_type": "markdown",
   "metadata": {},
   "source": [
    "### Train on a Single CIFAR-10 Batch\n",
    "Instead of training the neural network on all the CIFAR-10 batches of data, let's use a single batch. This should save time while you iterate on the model to get a better accuracy.  Once the final validation accuracy is 50% or greater, run the model on all the data in the next section."
   ]
  },
  {
   "cell_type": "code",
   "execution_count": 11,
   "metadata": {
    "scrolled": false
   },
   "outputs": [
    {
     "name": "stdout",
     "output_type": "stream",
     "text": [
      "Checking the Training on a Single Batch...\n",
      "Epoch  1, CIFAR-10 Batch 1:  Loss:     2.1142, validation Accuracy: 0.264800\n",
      "Epoch  2, CIFAR-10 Batch 1:  Loss:     1.8642, validation Accuracy: 0.370600\n",
      "Epoch  3, CIFAR-10 Batch 1:  Loss:     1.6124, validation Accuracy: 0.436400\n",
      "Epoch  4, CIFAR-10 Batch 1:  Loss:     1.3467, validation Accuracy: 0.462800\n",
      "Epoch  5, CIFAR-10 Batch 1:  Loss:     1.2166, validation Accuracy: 0.498400\n",
      "Epoch  6, CIFAR-10 Batch 1:  Loss:     1.0148, validation Accuracy: 0.510800\n",
      "Epoch  7, CIFAR-10 Batch 1:  Loss:     0.8809, validation Accuracy: 0.521400\n",
      "Epoch  8, CIFAR-10 Batch 1:  Loss:     0.6986, validation Accuracy: 0.528600\n",
      "Epoch  9, CIFAR-10 Batch 1:  Loss:     0.6152, validation Accuracy: 0.536400\n",
      "Epoch 10, CIFAR-10 Batch 1:  Loss:     0.5021, validation Accuracy: 0.550600\n",
      "Epoch 11, CIFAR-10 Batch 1:  Loss:     0.3969, validation Accuracy: 0.529000\n",
      "Epoch 12, CIFAR-10 Batch 1:  Loss:     0.3075, validation Accuracy: 0.528600\n",
      "Epoch 13, CIFAR-10 Batch 1:  Loss:     0.2775, validation Accuracy: 0.532600\n",
      "Epoch 14, CIFAR-10 Batch 1:  Loss:     0.2665, validation Accuracy: 0.542200\n",
      "Epoch 15, CIFAR-10 Batch 1:  Loss:     0.2708, validation Accuracy: 0.540200\n",
      "Epoch 16, CIFAR-10 Batch 1:  Loss:     0.2977, validation Accuracy: 0.531200\n",
      "Epoch 17, CIFAR-10 Batch 1:  Loss:     0.1923, validation Accuracy: 0.538200\n",
      "Epoch 18, CIFAR-10 Batch 1:  Loss:     0.1629, validation Accuracy: 0.536400\n",
      "Epoch 19, CIFAR-10 Batch 1:  Loss:     0.1941, validation Accuracy: 0.514400\n",
      "Epoch 20, CIFAR-10 Batch 1:  Loss:     0.0986, validation Accuracy: 0.525800\n",
      "Epoch 21, CIFAR-10 Batch 1:  Loss:     0.0782, validation Accuracy: 0.547200\n",
      "Epoch 22, CIFAR-10 Batch 1:  Loss:     0.0672, validation Accuracy: 0.545200\n",
      "Epoch 23, CIFAR-10 Batch 1:  Loss:     0.0760, validation Accuracy: 0.523600\n",
      "Epoch 24, CIFAR-10 Batch 1:  Loss:     0.0407, validation Accuracy: 0.530000\n",
      "Epoch 25, CIFAR-10 Batch 1:  Loss:     0.0680, validation Accuracy: 0.534600\n",
      "Epoch 26, CIFAR-10 Batch 1:  Loss:     0.0601, validation Accuracy: 0.527800\n",
      "Epoch 27, CIFAR-10 Batch 1:  Loss:     0.1014, validation Accuracy: 0.545400\n",
      "Epoch 28, CIFAR-10 Batch 1:  Loss:     0.0589, validation Accuracy: 0.537200\n",
      "Epoch 29, CIFAR-10 Batch 1:  Loss:     0.0977, validation Accuracy: 0.530200\n",
      "Epoch 30, CIFAR-10 Batch 1:  Loss:     0.0576, validation Accuracy: 0.539000\n"
     ]
    }
   ],
   "source": [
    "print('Checking the Training on a Single Batch...')\n",
    "with tf.Session() as sess:\n",
    "    # Initializing the variables\n",
    "    sess.run(tf.global_variables_initializer())\n",
    "    \n",
    "    # Training cycle\n",
    "    for epoch in range(epochs):\n",
    "        batch_i = 1\n",
    "        for batch_features, batch_labels in helper.load_preprocess_training_batch(batch_i, batch_size):\n",
    "            train_neural_network(sess, optimizer, keep_probability, batch_features, batch_labels)\n",
    "        print('Epoch {:>2}, CIFAR-10 Batch {}:  '.format(epoch + 1, batch_i), end='')\n",
    "        print_stats(sess, batch_features, batch_labels, cost, accuracy)"
   ]
  },
  {
   "cell_type": "markdown",
   "metadata": {},
   "source": [
    "### Fully Train the Model\n",
    "Now that you got a good accuracy with a single CIFAR-10 batch, try it with all five batches."
   ]
  },
  {
   "cell_type": "code",
   "execution_count": 12,
   "metadata": {
    "scrolled": true
   },
   "outputs": [
    {
     "name": "stdout",
     "output_type": "stream",
     "text": [
      "Training...\n",
      "Epoch  1, CIFAR-10 Batch 1:  Loss:     2.1069, validation Accuracy: 0.320800\n",
      "Epoch  1, CIFAR-10 Batch 2:  Loss:     1.6451, validation Accuracy: 0.408400\n",
      "Epoch  1, CIFAR-10 Batch 3:  Loss:     1.4557, validation Accuracy: 0.427800\n",
      "Epoch  1, CIFAR-10 Batch 4:  Loss:     1.4771, validation Accuracy: 0.486800\n",
      "Epoch  1, CIFAR-10 Batch 5:  Loss:     1.3586, validation Accuracy: 0.535200\n",
      "Epoch  2, CIFAR-10 Batch 1:  Loss:     1.2517, validation Accuracy: 0.540800\n",
      "Epoch  2, CIFAR-10 Batch 2:  Loss:     1.1116, validation Accuracy: 0.575400\n",
      "Epoch  2, CIFAR-10 Batch 3:  Loss:     1.1125, validation Accuracy: 0.550400\n",
      "Epoch  2, CIFAR-10 Batch 4:  Loss:     1.1107, validation Accuracy: 0.584600\n",
      "Epoch  2, CIFAR-10 Batch 5:  Loss:     1.0335, validation Accuracy: 0.589200\n",
      "Epoch  3, CIFAR-10 Batch 1:  Loss:     1.0149, validation Accuracy: 0.615600\n",
      "Epoch  3, CIFAR-10 Batch 2:  Loss:     0.9502, validation Accuracy: 0.607800\n",
      "Epoch  3, CIFAR-10 Batch 3:  Loss:     0.7890, validation Accuracy: 0.619600\n",
      "Epoch  3, CIFAR-10 Batch 4:  Loss:     0.8700, validation Accuracy: 0.626600\n",
      "Epoch  3, CIFAR-10 Batch 5:  Loss:     0.6950, validation Accuracy: 0.638800\n",
      "Epoch  4, CIFAR-10 Batch 1:  Loss:     0.8484, validation Accuracy: 0.627600\n",
      "Epoch  4, CIFAR-10 Batch 2:  Loss:     0.7473, validation Accuracy: 0.631800\n",
      "Epoch  4, CIFAR-10 Batch 3:  Loss:     0.6427, validation Accuracy: 0.631400\n",
      "Epoch  4, CIFAR-10 Batch 4:  Loss:     0.7396, validation Accuracy: 0.625800\n",
      "Epoch  4, CIFAR-10 Batch 5:  Loss:     0.6010, validation Accuracy: 0.645400\n",
      "Epoch  5, CIFAR-10 Batch 1:  Loss:     0.7354, validation Accuracy: 0.645800\n",
      "Epoch  5, CIFAR-10 Batch 2:  Loss:     0.5912, validation Accuracy: 0.644600\n",
      "Epoch  5, CIFAR-10 Batch 3:  Loss:     0.5280, validation Accuracy: 0.651800\n",
      "Epoch  5, CIFAR-10 Batch 4:  Loss:     0.5536, validation Accuracy: 0.652000\n",
      "Epoch  5, CIFAR-10 Batch 5:  Loss:     0.4300, validation Accuracy: 0.660600\n",
      "Epoch  6, CIFAR-10 Batch 1:  Loss:     0.5841, validation Accuracy: 0.660200\n",
      "Epoch  6, CIFAR-10 Batch 2:  Loss:     0.5093, validation Accuracy: 0.657800\n",
      "Epoch  6, CIFAR-10 Batch 3:  Loss:     0.4615, validation Accuracy: 0.648200\n",
      "Epoch  6, CIFAR-10 Batch 4:  Loss:     0.4024, validation Accuracy: 0.662000\n",
      "Epoch  6, CIFAR-10 Batch 5:  Loss:     0.3460, validation Accuracy: 0.656600\n",
      "Epoch  7, CIFAR-10 Batch 1:  Loss:     0.4437, validation Accuracy: 0.668800\n",
      "Epoch  7, CIFAR-10 Batch 2:  Loss:     0.4190, validation Accuracy: 0.659200\n",
      "Epoch  7, CIFAR-10 Batch 3:  Loss:     0.3155, validation Accuracy: 0.644800\n",
      "Epoch  7, CIFAR-10 Batch 4:  Loss:     0.3025, validation Accuracy: 0.672200\n",
      "Epoch  7, CIFAR-10 Batch 5:  Loss:     0.3429, validation Accuracy: 0.664000\n",
      "Epoch  8, CIFAR-10 Batch 1:  Loss:     0.4820, validation Accuracy: 0.666400\n",
      "Epoch  8, CIFAR-10 Batch 2:  Loss:     0.3187, validation Accuracy: 0.657200\n",
      "Epoch  8, CIFAR-10 Batch 3:  Loss:     0.2552, validation Accuracy: 0.653000\n",
      "Epoch  8, CIFAR-10 Batch 4:  Loss:     0.2484, validation Accuracy: 0.663000\n",
      "Epoch  8, CIFAR-10 Batch 5:  Loss:     0.1458, validation Accuracy: 0.665000\n",
      "Epoch  9, CIFAR-10 Batch 1:  Loss:     0.4268, validation Accuracy: 0.646600\n",
      "Epoch  9, CIFAR-10 Batch 2:  Loss:     0.2199, validation Accuracy: 0.645800\n",
      "Epoch  9, CIFAR-10 Batch 3:  Loss:     0.2997, validation Accuracy: 0.646400\n",
      "Epoch  9, CIFAR-10 Batch 4:  Loss:     0.2517, validation Accuracy: 0.662400\n",
      "Epoch  9, CIFAR-10 Batch 5:  Loss:     0.1960, validation Accuracy: 0.660800\n",
      "Epoch 10, CIFAR-10 Batch 1:  Loss:     0.2383, validation Accuracy: 0.658600\n",
      "Epoch 10, CIFAR-10 Batch 2:  Loss:     0.2897, validation Accuracy: 0.657200\n",
      "Epoch 10, CIFAR-10 Batch 3:  Loss:     0.1612, validation Accuracy: 0.656400\n",
      "Epoch 10, CIFAR-10 Batch 4:  Loss:     0.1612, validation Accuracy: 0.659800\n",
      "Epoch 10, CIFAR-10 Batch 5:  Loss:     0.1112, validation Accuracy: 0.656000\n",
      "Epoch 11, CIFAR-10 Batch 1:  Loss:     0.2425, validation Accuracy: 0.656200\n",
      "Epoch 11, CIFAR-10 Batch 2:  Loss:     0.1695, validation Accuracy: 0.658600\n",
      "Epoch 11, CIFAR-10 Batch 3:  Loss:     0.1719, validation Accuracy: 0.668000\n",
      "Epoch 11, CIFAR-10 Batch 4:  Loss:     0.1316, validation Accuracy: 0.655200\n",
      "Epoch 11, CIFAR-10 Batch 5:  Loss:     0.1521, validation Accuracy: 0.660800\n",
      "Epoch 12, CIFAR-10 Batch 1:  Loss:     0.1342, validation Accuracy: 0.662200\n",
      "Epoch 12, CIFAR-10 Batch 2:  Loss:     0.1084, validation Accuracy: 0.656800\n",
      "Epoch 12, CIFAR-10 Batch 3:  Loss:     0.0836, validation Accuracy: 0.655800\n",
      "Epoch 12, CIFAR-10 Batch 4:  Loss:     0.1652, validation Accuracy: 0.662400\n",
      "Epoch 12, CIFAR-10 Batch 5:  Loss:     0.1191, validation Accuracy: 0.651400\n",
      "Epoch 13, CIFAR-10 Batch 1:  Loss:     0.1363, validation Accuracy: 0.661600\n",
      "Epoch 13, CIFAR-10 Batch 2:  Loss:     0.1043, validation Accuracy: 0.660600\n",
      "Epoch 13, CIFAR-10 Batch 3:  Loss:     0.1288, validation Accuracy: 0.672800\n",
      "Epoch 13, CIFAR-10 Batch 4:  Loss:     0.0786, validation Accuracy: 0.666800\n",
      "Epoch 13, CIFAR-10 Batch 5:  Loss:     0.1693, validation Accuracy: 0.644800\n",
      "Epoch 14, CIFAR-10 Batch 1:  Loss:     0.1809, validation Accuracy: 0.665000\n",
      "Epoch 14, CIFAR-10 Batch 2:  Loss:     0.0548, validation Accuracy: 0.664400\n",
      "Epoch 14, CIFAR-10 Batch 3:  Loss:     0.0629, validation Accuracy: 0.663400\n",
      "Epoch 14, CIFAR-10 Batch 4:  Loss:     0.1210, validation Accuracy: 0.677800\n",
      "Epoch 14, CIFAR-10 Batch 5:  Loss:     0.0742, validation Accuracy: 0.664800\n",
      "Epoch 15, CIFAR-10 Batch 1:  Loss:     0.1557, validation Accuracy: 0.662400\n",
      "Epoch 15, CIFAR-10 Batch 2:  Loss:     0.1269, validation Accuracy: 0.668400\n",
      "Epoch 15, CIFAR-10 Batch 3:  Loss:     0.0496, validation Accuracy: 0.659600\n",
      "Epoch 15, CIFAR-10 Batch 4:  Loss:     0.0618, validation Accuracy: 0.656600\n",
      "Epoch 15, CIFAR-10 Batch 5:  Loss:     0.1043, validation Accuracy: 0.669800\n",
      "Epoch 16, CIFAR-10 Batch 1:  Loss:     0.1283, validation Accuracy: 0.673000\n",
      "Epoch 16, CIFAR-10 Batch 2:  Loss:     0.0835, validation Accuracy: 0.653400\n",
      "Epoch 16, CIFAR-10 Batch 3:  Loss:     0.0245, validation Accuracy: 0.671800\n",
      "Epoch 16, CIFAR-10 Batch 4:  Loss:     0.0451, validation Accuracy: 0.674800\n",
      "Epoch 16, CIFAR-10 Batch 5:  Loss:     0.0246, validation Accuracy: 0.672200\n",
      "Epoch 17, CIFAR-10 Batch 1:  Loss:     0.1237, validation Accuracy: 0.655000\n",
      "Epoch 17, CIFAR-10 Batch 2:  Loss:     0.0640, validation Accuracy: 0.665200\n",
      "Epoch 17, CIFAR-10 Batch 3:  Loss:     0.0473, validation Accuracy: 0.664600\n",
      "Epoch 17, CIFAR-10 Batch 4:  Loss:     0.0624, validation Accuracy: 0.662200\n",
      "Epoch 17, CIFAR-10 Batch 5:  Loss:     0.0493, validation Accuracy: 0.663000\n",
      "Epoch 18, CIFAR-10 Batch 1:  Loss:     0.1661, validation Accuracy: 0.656600\n",
      "Epoch 18, CIFAR-10 Batch 2:  Loss:     0.0443, validation Accuracy: 0.658800\n",
      "Epoch 18, CIFAR-10 Batch 3:  Loss:     0.0303, validation Accuracy: 0.657400\n",
      "Epoch 18, CIFAR-10 Batch 4:  Loss:     0.0547, validation Accuracy: 0.663000\n",
      "Epoch 18, CIFAR-10 Batch 5:  Loss:     0.0337, validation Accuracy: 0.654600\n",
      "Epoch 19, CIFAR-10 Batch 1:  Loss:     0.0900, validation Accuracy: 0.652200\n",
      "Epoch 19, CIFAR-10 Batch 2:  Loss:     0.0302, validation Accuracy: 0.656000\n",
      "Epoch 19, CIFAR-10 Batch 3:  Loss:     0.0199, validation Accuracy: 0.665200\n",
      "Epoch 19, CIFAR-10 Batch 4:  Loss:     0.0398, validation Accuracy: 0.659600\n",
      "Epoch 19, CIFAR-10 Batch 5:  Loss:     0.0130, validation Accuracy: 0.671600\n",
      "Epoch 20, CIFAR-10 Batch 1:  Loss:     0.1168, validation Accuracy: 0.654800\n",
      "Epoch 20, CIFAR-10 Batch 2:  Loss:     0.0216, validation Accuracy: 0.661400\n",
      "Epoch 20, CIFAR-10 Batch 3:  Loss:     0.0415, validation Accuracy: 0.654000\n",
      "Epoch 20, CIFAR-10 Batch 4:  Loss:     0.0252, validation Accuracy: 0.663800\n",
      "Epoch 20, CIFAR-10 Batch 5:  Loss:     0.0324, validation Accuracy: 0.654800\n",
      "Epoch 21, CIFAR-10 Batch 1:  Loss:     0.0657, validation Accuracy: 0.659000\n",
      "Epoch 21, CIFAR-10 Batch 2:  Loss:     0.0068, validation Accuracy: 0.666800\n",
      "Epoch 21, CIFAR-10 Batch 3:  Loss:     0.0061, validation Accuracy: 0.662200\n",
      "Epoch 21, CIFAR-10 Batch 4:  Loss:     0.0523, validation Accuracy: 0.666800\n",
      "Epoch 21, CIFAR-10 Batch 5:  Loss:     0.0081, validation Accuracy: 0.662200\n",
      "Epoch 22, CIFAR-10 Batch 1:  Loss:     0.0406, validation Accuracy: 0.655000\n",
      "Epoch 22, CIFAR-10 Batch 2:  Loss:     0.0166, validation Accuracy: 0.665800\n",
      "Epoch 22, CIFAR-10 Batch 3:  Loss:     0.0184, validation Accuracy: 0.654000\n",
      "Epoch 22, CIFAR-10 Batch 4:  Loss:     0.0195, validation Accuracy: 0.664000\n",
      "Epoch 22, CIFAR-10 Batch 5:  Loss:     0.0086, validation Accuracy: 0.666400\n",
      "Epoch 23, CIFAR-10 Batch 1:  Loss:     0.0463, validation Accuracy: 0.657800\n",
      "Epoch 23, CIFAR-10 Batch 2:  Loss:     0.0092, validation Accuracy: 0.659400\n",
      "Epoch 23, CIFAR-10 Batch 3:  Loss:     0.0146, validation Accuracy: 0.664400\n",
      "Epoch 23, CIFAR-10 Batch 4:  Loss:     0.0182, validation Accuracy: 0.671200\n",
      "Epoch 23, CIFAR-10 Batch 5:  Loss:     0.0072, validation Accuracy: 0.660400\n",
      "Epoch 24, CIFAR-10 Batch 1:  Loss:     0.0339, validation Accuracy: 0.666800\n",
      "Epoch 24, CIFAR-10 Batch 2:  Loss:     0.0094, validation Accuracy: 0.672200\n",
      "Epoch 24, CIFAR-10 Batch 3:  Loss:     0.0088, validation Accuracy: 0.665000\n",
      "Epoch 24, CIFAR-10 Batch 4:  Loss:     0.0178, validation Accuracy: 0.673000\n",
      "Epoch 24, CIFAR-10 Batch 5:  Loss:     0.0097, validation Accuracy: 0.666800\n",
      "Epoch 25, CIFAR-10 Batch 1:  Loss:     0.0602, validation Accuracy: 0.644000\n",
      "Epoch 25, CIFAR-10 Batch 2:  Loss:     0.0118, validation Accuracy: 0.662000\n",
      "Epoch 25, CIFAR-10 Batch 3:  Loss:     0.0211, validation Accuracy: 0.669600\n",
      "Epoch 25, CIFAR-10 Batch 4:  Loss:     0.0143, validation Accuracy: 0.675600\n",
      "Epoch 25, CIFAR-10 Batch 5:  Loss:     0.0034, validation Accuracy: 0.672000\n",
      "Epoch 26, CIFAR-10 Batch 1:  Loss:     0.0392, validation Accuracy: 0.638000\n",
      "Epoch 26, CIFAR-10 Batch 2:  Loss:     0.0040, validation Accuracy: 0.655400\n",
      "Epoch 26, CIFAR-10 Batch 3:  Loss:     0.0052, validation Accuracy: 0.665000\n",
      "Epoch 26, CIFAR-10 Batch 4:  Loss:     0.0205, validation Accuracy: 0.666600\n",
      "Epoch 26, CIFAR-10 Batch 5:  Loss:     0.0066, validation Accuracy: 0.660600\n",
      "Epoch 27, CIFAR-10 Batch 1:  Loss:     0.0491, validation Accuracy: 0.651200\n",
      "Epoch 27, CIFAR-10 Batch 2:  Loss:     0.0057, validation Accuracy: 0.660000\n",
      "Epoch 27, CIFAR-10 Batch 3:  Loss:     0.0212, validation Accuracy: 0.667400\n",
      "Epoch 27, CIFAR-10 Batch 4:  Loss:     0.0061, validation Accuracy: 0.677800\n",
      "Epoch 27, CIFAR-10 Batch 5:  Loss:     0.0076, validation Accuracy: 0.661000\n",
      "Epoch 28, CIFAR-10 Batch 1:  Loss:     0.0340, validation Accuracy: 0.661400\n",
      "Epoch 28, CIFAR-10 Batch 2:  Loss:     0.0142, validation Accuracy: 0.668600\n",
      "Epoch 28, CIFAR-10 Batch 3:  Loss:     0.0123, validation Accuracy: 0.670200\n",
      "Epoch 28, CIFAR-10 Batch 4:  Loss:     0.0074, validation Accuracy: 0.669800\n",
      "Epoch 28, CIFAR-10 Batch 5:  Loss:     0.0077, validation Accuracy: 0.663000\n",
      "Epoch 29, CIFAR-10 Batch 1:  Loss:     0.0224, validation Accuracy: 0.645400\n",
      "Epoch 29, CIFAR-10 Batch 2:  Loss:     0.0048, validation Accuracy: 0.654400\n",
      "Epoch 29, CIFAR-10 Batch 3:  Loss:     0.0034, validation Accuracy: 0.668400\n",
      "Epoch 29, CIFAR-10 Batch 4:  Loss:     0.0141, validation Accuracy: 0.672200\n",
      "Epoch 29, CIFAR-10 Batch 5:  Loss:     0.0070, validation Accuracy: 0.664000\n",
      "Epoch 30, CIFAR-10 Batch 1:  Loss:     0.0301, validation Accuracy: 0.666200\n",
      "Epoch 30, CIFAR-10 Batch 2:  Loss:     0.0047, validation Accuracy: 0.658200\n",
      "Epoch 30, CIFAR-10 Batch 3:  Loss:     0.0091, validation Accuracy: 0.670000\n",
      "Epoch 30, CIFAR-10 Batch 4:  Loss:     0.0028, validation Accuracy: 0.671200\n",
      "Epoch 30, CIFAR-10 Batch 5:  Loss:     0.0075, validation Accuracy: 0.671000\n"
     ]
    }
   ],
   "source": [
    "save_model_path = './image_classification'\n",
    "\n",
    "print('Training...')\n",
    "with tf.Session() as sess:\n",
    "    # Initializing the variables\n",
    "    sess.run(tf.global_variables_initializer())\n",
    "    \n",
    "    # Training cycle\n",
    "    for epoch in range(epochs):\n",
    "        # Loop over all batches\n",
    "        n_batches = 5\n",
    "        for batch_i in range(1, n_batches + 1):\n",
    "            for batch_features, batch_labels in helper.load_preprocess_training_batch(batch_i, batch_size):\n",
    "                train_neural_network(sess, optimizer, keep_probability, batch_features, batch_labels)\n",
    "            print('Epoch {:>2}, CIFAR-10 Batch {}:  '.format(epoch + 1, batch_i), end='')\n",
    "            print_stats(sess, batch_features, batch_labels, cost, accuracy)\n",
    "            \n",
    "    # Save Model\n",
    "    saver = tf.train.Saver()\n",
    "    save_path = saver.save(sess, save_model_path)"
   ]
  },
  {
   "cell_type": "markdown",
   "metadata": {},
   "source": [
    "# Checkpoint\n",
    "The model has been saved to disk.\n",
    "## Test Model\n",
    "Test your model against the test dataset.  This will be your final accuracy. You should have an accuracy greater than 50%. If you don't, keep tweaking the model architecture and parameters."
   ]
  },
  {
   "cell_type": "code",
   "execution_count": 13,
   "metadata": {},
   "outputs": [
    {
     "name": "stdout",
     "output_type": "stream",
     "text": [
      "INFO:tensorflow:Restoring parameters from ./image_classification\n",
      "Testing Accuracy: 0.6575437898089171\n",
      "\n"
     ]
    },
    {
     "data": {
      "image/png": "[encoded data removed]",
      "text/plain": [
       "<matplotlib.figure.Figure at 0x7f03b85bae80>"
      ]
     },
     "metadata": {
      "image/png": {
       "height": 319,
       "width": 355
      }
     },
     "output_type": "display_data"
    }
   ],
   "source": [
    "%matplotlib inline\n",
    "%config InlineBackend.figure_format = 'retina'\n",
    "\n",
    "import tensorflow as tf\n",
    "import pickle\n",
    "import helper\n",
    "import random\n",
    "\n",
    "# Set batch size if not already set\n",
    "try:\n",
    "    if batch_size:\n",
    "        pass\n",
    "except NameError:\n",
    "    batch_size = 64\n",
    "\n",
    "save_model_path = './image_classification'\n",
    "n_samples = 4\n",
    "top_n_predictions = 3\n",
    "\n",
    "def test_model():\n",
    "    \"\"\"\n",
    "    Test the saved model against the test dataset\n",
    "    \"\"\"\n",
    "\n",
    "    test_features, test_labels = pickle.load(open('preprocess_training.p', mode='rb'))\n",
    "    loaded_graph = tf.Graph()\n",
    "\n",
    "    with tf.Session(graph=loaded_graph) as sess:\n",
    "        # Load model\n",
    "        loader = tf.train.import_meta_graph(save_model_path + '.meta')\n",
    "        loader.restore(sess, save_model_path)\n",
    "\n",
    "        # Get Tensors from loaded model\n",
    "        loaded_x = loaded_graph.get_tensor_by_name('x:0')\n",
    "        loaded_y = loaded_graph.get_tensor_by_name('y:0')\n",
    "        loaded_keep_prob = loaded_graph.get_tensor_by_name('keep_prob:0')\n",
    "        loaded_logits = loaded_graph.get_tensor_by_name('logits:0')\n",
    "        loaded_acc = loaded_graph.get_tensor_by_name('accuracy:0')\n",
    "        \n",
    "        # Get accuracy in batches for memory limitations\n",
    "        test_batch_acc_total = 0\n",
    "        test_batch_count = 0\n",
    "        \n",
    "        for train_feature_batch, train_label_batch in helper.batch_features_labels(test_features, test_labels, batch_size):\n",
    "            test_batch_acc_total += sess.run(\n",
    "                loaded_acc,\n",
    "                feed_dict={loaded_x: train_feature_batch, loaded_y: train_label_batch, loaded_keep_prob: 1.0})\n",
    "            test_batch_count += 1\n",
    "\n",
    "        print('Testing Accuracy: {}\\n'.format(test_batch_acc_total/test_batch_count))\n",
    "\n",
    "        # Print Random Samples\n",
    "        random_test_features, random_test_labels = tuple(zip(*random.sample(list(zip(test_features, test_labels)), n_samples)))\n",
    "        random_test_predictions = sess.run(\n",
    "            tf.nn.top_k(tf.nn.softmax(loaded_logits), top_n_predictions),\n",
    "            feed_dict={loaded_x: random_test_features, loaded_y: random_test_labels, loaded_keep_prob: 1.0})\n",
    "        helper.display_image_predictions(random_test_features, random_test_labels, random_test_predictions)\n",
    "\n",
    "\n",
    "test_model()"
   ]
  }
 ],
 "metadata": {
  "kernelspec": {
   "display_name": "Python 3",
   "language": "python",
   "name": "python3"
  },
  "language_info": {
   "codemirror_mode": {
    "name": "ipython",
    "version": 3
   },
   "file_extension": ".py",
   "mimetype": "text/x-python",
   "name": "python",
   "nbconvert_exporter": "python",
   "pygments_lexer": "ipython3",
   "version": "3.6.1"
  }
 },
 "nbformat": 4,
 "nbformat_minor": 1
}
